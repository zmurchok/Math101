{
 "cells": [
  {
   "cell_type": "markdown",
   "metadata": {},
   "source": [
    "# Numeric Integration -  Math 101 Recitation\n",
    "Wednesday, Feb 8, 2017"
   ]
  },
  {
   "cell_type": "code",
   "execution_count": 3,
   "metadata": {
    "collapsed": true
   },
   "outputs": [],
   "source": [
    "import math    \n",
    "import numpy as np"
   ]
  },
  {
   "cell_type": "code",
   "execution_count": 4,
   "metadata": {
    "collapsed": true
   },
   "outputs": [],
   "source": [
    "def f(x):\n",
    "    return  4/(1+x**2)"
   ]
  },
  {
   "cell_type": "code",
   "execution_count": 5,
   "metadata": {
    "collapsed": false
   },
   "outputs": [],
   "source": [
    "def midpoint(n=100):\n",
    "    a = 0\n",
    "    b = 1\n",
    "    delta_x = (b - a) / n \n",
    "    \n",
    "    exact = 4 * (math.atan(b) - math.atan(a))\n",
    "    sum = 0\n",
    "    \n",
    "    for i in range(1,n+1):\n",
    "        xleft = a + (i-1)*delta_x\n",
    "        xright = a + i*delta_x\n",
    "        x = (xleft+xright)/2\n",
    "        y = f(x)\n",
    "        sum = sum + y\n",
    "        \n",
    "    approx = delta_x * sum\n",
    "    error = np.abs(exact - approx)\n",
    "    print('Approx with %d subintervals = %6.10f and the error is = %6.10f'% (n,approx,error))\n",
    "    return approx, error"
   ]
  },
  {
   "cell_type": "code",
   "execution_count": 6,
   "metadata": {
    "collapsed": false
   },
   "outputs": [
    {
     "name": "stdout",
     "output_type": "stream",
     "text": [
      "Approx with 4 subintervals = 3.1468005184 and the error is = 0.0052078648\n",
      "Approx with 8 subintervals = 3.1428947296 and the error is = 0.0013020760\n",
      "Approx with 16 subintervals = 3.1419181743 and the error is = 0.0003255207\n",
      "Approx with 32 subintervals = 3.1416740338 and the error is = 0.0000813802\n"
     ]
    }
   ],
   "source": [
    "approx, error = midpoint(4)\n",
    "approx, error = midpoint(8)\n",
    "approx, error = midpoint(16)\n",
    "approx, error = midpoint(32)"
   ]
  },
  {
   "cell_type": "code",
   "execution_count": 7,
   "metadata": {
    "collapsed": false
   },
   "outputs": [],
   "source": [
    "def trapz(n=100):\n",
    "    a = 0\n",
    "    b = 1\n",
    "    delta_x = (b - a) / n \n",
    "    \n",
    "    exact = 4 * (math.atan(b) - math.atan(a))\n",
    "    sum = f(a)\n",
    "    sum = sum+f(b)    \n",
    "    for i in range(1,n):\n",
    "        x = a + i*delta_x\n",
    "        y = f(x)\n",
    "        sum = sum + 2*y\n",
    "        \n",
    "    approx = delta_x * sum / 2\n",
    "    error = np.abs(exact - approx)\n",
    "    print('Approx with %d subintervals = %6.10f and the error is = %6.10f'% (n,approx,error))\n",
    "    return approx, error"
   ]
  },
  {
   "cell_type": "code",
   "execution_count": 8,
   "metadata": {
    "collapsed": false
   },
   "outputs": [
    {
     "name": "stdout",
     "output_type": "stream",
     "text": [
      "Approx with 4 subintervals = 3.1311764706 and the error is = 0.0104161830\n",
      "Approx with 8 subintervals = 3.1389884945 and the error is = 0.0026041591\n",
      "Approx with 16 subintervals = 3.1409416120 and the error is = 0.0006510415\n",
      "Approx with 32 subintervals = 3.1414298932 and the error is = 0.0001627604\n"
     ]
    }
   ],
   "source": [
    "approx, error = trapz(4)\n",
    "approx, error = trapz(8)\n",
    "approx, error = trapz(16)\n",
    "approx, error = trapz(32)"
   ]
  },
  {
   "cell_type": "code",
   "execution_count": 9,
   "metadata": {
    "collapsed": false
   },
   "outputs": [],
   "source": [
    "def simpsons(n=100):\n",
    "    a = 0\n",
    "    b = 1\n",
    "    delta_x = (b - a) / n \n",
    "    \n",
    "    exact = 4 * (math.atan(b) - math.atan(a))\n",
    "    sum = f(a)\n",
    "   \n",
    "    for i in range(1, n, 2):\n",
    "        x = a + (i * delta_x)\n",
    "        y = f(x)\n",
    "        sum = sum + (4 * y)\n",
    "        \n",
    "    for i in range(2, (n - 1), 2):\n",
    "        x = a + (i * delta_x)\n",
    "        y = f(x)\n",
    "        sum = sum + (2 * y)\n",
    "\n",
    "    sum = sum + f(b)\n",
    "        \n",
    "    approx = delta_x * sum / 3\n",
    "    error = np.abs(exact - approx)\n",
    "    print('Approx with %d subintervals = %6.16f and the error is = %6.16f'% (n,approx,error))\n",
    "    return approx, error"
   ]
  },
  {
   "cell_type": "code",
   "execution_count": 10,
   "metadata": {
    "collapsed": false
   },
   "outputs": [
    {
     "name": "stdout",
     "output_type": "stream",
     "text": [
      "Approx with 4 subintervals = 3.1415686274509800 and the error is = 0.0000240261388131\n",
      "Approx with 8 subintervals = 3.1415925024587072 and the error is = 0.0000001511310859\n",
      "Approx with 16 subintervals = 3.1415926512248227 and the error is = 0.0000000023649704\n",
      "Approx with 32 subintervals = 3.1415926535528360 and the error is = 0.0000000000369571\n"
     ]
    }
   ],
   "source": [
    "approx, error = simpsons(4)\n",
    "approx, error = simpsons(8)\n",
    "approx, error = simpsons(16)\n",
    "approx, error = simpsons(32)"
   ]
  },
  {
   "cell_type": "markdown",
   "metadata": {},
   "source": [
    "## The Midpoint Rule\n",
    "\n",
    "With $\\bar x_i = \\frac{x_{i-1} + x_i}{2}$ chosen to be the midpoint of each subinterval,  \n",
    "$$\n",
    "\\int_a^b f(x) \\, dx \\approx \\Delta x \\left(f(\\bar x_1) + f(\\bar x_2) + \\dots + f(\\bar x_n) \\right).\n",
    "$$\n",
    "If $\\left| f''(x) \\right| \\le M$ on $(a,b)$, then the total error is bounded by \n",
    "$$\n",
    "\\frac{M(b-a)^3}{12n^2}.\n",
    "$$\n",
    "\n",
    "## The Trapezoid Rule\n",
    "\n",
    "With the \"sample height\" equal to the average height $\\frac{x_{i+1} + x_i}{2}$,\n",
    "$$\n",
    "\\int_a^b f(x) \\, dx \\approx \\frac{\\Delta x}{2} \\left(f(x_0) + 2 f(x_1) + \\dots +2 f(x_{n-2}) + f(x_n) \\right).\n",
    "$$\n",
    "If $\\left| f''(x) \\right| \\le M$ on $(a,b)$, then the total error is bounded by \n",
    "$$\n",
    "\\frac{M(b-a)^3}{24n^2}.\n",
    "$$"
   ]
  },
  {
   "cell_type": "markdown",
   "metadata": {},
   "source": [
    "## Questions\n",
    "\n",
    "Consider $$ \\int_2^4 x^2 - 2x \\, dx$$\n",
    "\n",
    "Pick one of the following to do:\n",
    "1. Use the midpoint rule and $n = 4$ subintervals to approximate the integral. Then find a bound on the total error. \n",
    "2. Use the trapzeoid rule and $n = 4$ subintervals to approximate the integral. Then find a bound on the total error. \n",
    "\n",
    "Without calculating the integral, explain why your estimate is either an underestimate or overestimate."
   ]
  },
  {
   "cell_type": "markdown",
   "metadata": {},
   "source": [
    "## Simpson's Rule\n",
    "\n",
    "Using the parabola through $(x_{i-1},f(x_{i-1}))$, $(x_{i},f(x_{i}))$, and $(x_{i+1},f(x_{i+1}))$ on the double subinterval $[x_{i-1},x_{i+1}]$,\n",
    "$$\n",
    "\\int_a^b f(x) \\, dx \\approx \\frac{\\Delta x}{3} \\left(f(x_0) + 4 f(x_1) + 2f(x_2) + 4f(x_3) + 2f(x_4) + \\dots + 4 f(x_{n-1}) + f(x_n) \\right).\n",
    "$$\n",
    "If $\\left| f^{(4)}(x) \\right| \\le K$ on $(a,b)$, then the total error is bounded by \n",
    "$$\n",
    "\\frac{K(b-a)^3}{180n^4}.\n",
    "$$"
   ]
  },
  {
   "cell_type": "markdown",
   "metadata": {},
   "source": [
    "## Questions\n",
    "\n",
    "Consider $$ \\int_2^4 x^2 - 2x \\, dx$$\n",
    "\n",
    "Use Simpson's rule and $n = 4$ subintervals to approximate the integral. Then find a bound on the total error. \n",
    "\n",
    "Without calculating the integral, explain why your estimate is equal to $ \\int_2^4 x^2 - 2x \\, dx$."
   ]
  },
  {
   "cell_type": "markdown",
   "metadata": {},
   "source": [
    "\n",
    "## <span style=\"color:blue\">Key Points</span>\n",
    "- <span style=\"color:blue\"> \n",
    "Concavity of function determines whether you have an overestimate or underestimate!</span>\n",
    "- <span style=\"color:blue\">Simpson's Rule is exact when the integrand is a parabola.</span>\n"
   ]
  },
  {
   "cell_type": "markdown",
   "metadata": {},
   "source": [
    "## Example\n",
    "\n",
    "Consider \n",
    "$$\n",
    "\\int_0^1 \\sin (x^2) \\, dx.\n",
    "$$\n",
    "\n",
    "Cole: Use the midpoint rule and $n = 4$ subintervals to approximate the integral. Then find a bound on the total error, using the fact that \n",
    "$$\n",
    "\\frac{d^2}{dx^2} \\sin(x^2) = 2 \\left( \\cos(x^2) = 2x^2 \\sin(x^2) \\right).\n",
    "$$\n",
    "If we want to guaranetee that our approximates are within $0.001$ of the actual value of the integral, what must we take $n$ to be equal to?"
   ]
  },
  {
   "cell_type": "markdown",
   "metadata": {},
   "source": [
    "## Questions\n",
    "\n",
    "Consider \n",
    "$$\n",
    "\\int_0^1 \\sin (x^2) \\, dx.\n",
    "$$\n",
    "Pick one of the following to do:\n",
    "1. Use the trapezoid rule and $n = 4$ subintervals to approximate the integral. Then find a bound on the total error using the second derivative as given above.\n",
    "2. Use Simpson's rule and $n = 4$ subintervals to approximate the integral. Then find a bound on the total error, using the fact that $$\\frac{d^4}{dx^4} \\sin(x^2) = 4 \\left( -12x^2 \\cos(x^2) + (-3 + 4x^4) \\sin(x^2) \\right)$$\n",
    "\n",
    "Suppose that you want to guarantee that your approximation is within 0.001 of the actual value of $\\int_0^1 \\sin(x^2) \\, dx$. What must you choose $n$ to be equal to?"
   ]
  }
 ],
 "metadata": {
  "anaconda-cloud": {},
  "kernelspec": {
   "display_name": "Python [default]",
   "language": "python",
   "name": "python3"
  },
  "language_info": {
   "codemirror_mode": {
    "name": "ipython",
    "version": 3
   },
   "file_extension": ".py",
   "mimetype": "text/x-python",
   "name": "python",
   "nbconvert_exporter": "python",
   "pygments_lexer": "ipython3",
   "version": "3.5.2"
  }
 },
 "nbformat": 4,
 "nbformat_minor": 1
}
